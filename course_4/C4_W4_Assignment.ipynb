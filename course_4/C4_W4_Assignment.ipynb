{
  "nbformat": 4,
  "nbformat_minor": 0,
  "metadata": {
    "colab": {
      "name": "C4_W4_Assignment.ipynb",
      "provenance": [],
      "collapsed_sections": [],
      "include_colab_link": true
    },
    "kernelspec": {
      "name": "python3",
      "display_name": "Python 3"
    },
    "language_info": {
      "name": "python"
    },
    "accelerator": "GPU",
    "gpuClass": "standard"
  },
  "cells": [
    {
      "cell_type": "markdown",
      "metadata": {
        "id": "view-in-github",
        "colab_type": "text"
      },
      "source": [
        "<a href=\"https://colab.research.google.com/github/ksairos/tf-advanced-techniques-course/blob/main/course_4/C4_W4_Assignment.ipynb\" target=\"_parent\"><img src=\"https://colab.research.google.com/assets/colab-badge.svg\" alt=\"Open In Colab\"/></a>"
      ]
    },
    {
      "cell_type": "markdown",
      "source": [
        "# GANs with Hands\n",
        "\n",
        "Generative Adversarial Network (GAN) that generates pictures of hands. These will be trained on a dataset of hand images doing sign language."
      ],
      "metadata": {
        "id": "eO1GsUbQQH0r"
      }
    },
    {
      "cell_type": "markdown",
      "source": [
        "## Imports"
      ],
      "metadata": {
        "id": "wl9w_w5aQPhU"
      }
    },
    {
      "cell_type": "code",
      "execution_count": null,
      "metadata": {
        "id": "iFsB4FSDQCgc"
      },
      "outputs": [],
      "source": [
        "import tensorflow as tf\n",
        "import tensorflow.keras as keras\n",
        "\n",
        "import matplotlib.pyplot as plt\n",
        "import numpy as np\n",
        "\n",
        "import urllib.request\n",
        "import zipfile\n",
        "from IPython import display"
      ]
    },
    {
      "cell_type": "code",
      "source": [
        "K = keras.backend"
      ],
      "metadata": {
        "id": "aESFZPnOQTpS"
      },
      "execution_count": null,
      "outputs": []
    },
    {
      "cell_type": "markdown",
      "source": [
        "## Some Utilities"
      ],
      "metadata": {
        "id": "PFfdloXaQi3N"
      }
    },
    {
      "cell_type": "code",
      "source": [
        "def plot_results(images, n_cols=None):\n",
        "    '''visualizes fake images'''\n",
        "    \n",
        "    n_cols = n_cols or len(images)\n",
        "    n_rows = (len(images) - 1) // n_cols + 1\n",
        "    \n",
        "    if images.shape[-1] == 1:\n",
        "        images = np.squeeze(images, axis=-1)\n",
        "    \n",
        "    plt.figure(figsize=(n_cols, n_rows))\n",
        "    \n",
        "    for index, image in enumerate(images):\n",
        "        plt.subplot(n_rows, n_cols, index + 1)\n",
        "        plt.imshow(image, cmap=\"binary\")\n",
        "        plt.axis(\"off\")\n",
        "\n",
        "    plt.show()"
      ],
      "metadata": {
        "id": "zAzfNdmgQiXq"
      },
      "execution_count": null,
      "outputs": []
    },
    {
      "cell_type": "markdown",
      "source": [
        "## Some Constants"
      ],
      "metadata": {
        "id": "XU3NNgT5vBdB"
      }
    },
    {
      "cell_type": "code",
      "source": [
        "BATCH_SIZE = 32\n",
        "BUFFER_SIZE = 30000\n",
        "EPOCHS = 60\n",
        "\n",
        "random_normal_dimensions = 32"
      ],
      "metadata": {
        "id": "PcgQhVCMvDs6"
      },
      "execution_count": null,
      "outputs": []
    },
    {
      "cell_type": "markdown",
      "source": [
        "## Get and Prepare the Data"
      ],
      "metadata": {
        "id": "a0mLPIGPQupF"
      }
    },
    {
      "cell_type": "code",
      "source": [
        "# download the dataset\n",
        "training_url = \"https://storage.googleapis.com/laurencemoroney-blog.appspot.com/Resources/signs-training.zip\"\n",
        "training_file_name = \"signs-training.zip\"\n",
        "urllib.request.urlretrieve(training_url, training_file_name)\n",
        "\n",
        "# extract to local directory\n",
        "training_dir = \"/tmp\"\n",
        "zip_ref = zipfile.ZipFile(training_file_name, 'r')\n",
        "zip_ref.extractall(training_dir)\n",
        "zip_ref.close()"
      ],
      "metadata": {
        "id": "X0UlY-yQQtVM"
      },
      "execution_count": null,
      "outputs": []
    },
    {
      "cell_type": "code",
      "source": [
        "# mapping function for our dataset\n",
        "def map_images(file):\n",
        "  '''converts the images to floats and normalizes the pixel values'''\n",
        "  image = tf.io.decode_png(tf.io.read_file(file))\n",
        "  image = tf.cast(image, tf.float32)\n",
        "  image = (image - 127.5) / 127.5 \n",
        "\n",
        "  return image\n",
        "\n",
        "# create training batches\n",
        "filename_dataset = tf.data.Dataset.list_files(\"/tmp/signs-training/*.png\")\n",
        "image_dataset = filename_dataset.map(map_images).shuffle(BUFFER_SIZE).batch(BATCH_SIZE)"
      ],
      "metadata": {
        "id": "RCZGJwP0QxKV"
      },
      "execution_count": null,
      "outputs": []
    },
    {
      "cell_type": "code",
      "source": [
        "next(image_dataset.take(1).as_numpy_iterator()).shape"
      ],
      "metadata": {
        "colab": {
          "base_uri": "https://localhost:8080/"
        },
        "id": "hqwuhwGPzuXe",
        "outputId": "ec26bbf8-d999-4bbf-951e-d75353ced18e"
      },
      "execution_count": null,
      "outputs": [
        {
          "output_type": "execute_result",
          "data": {
            "text/plain": [
              "(32, 28, 28, 1)"
            ]
          },
          "metadata": {},
          "execution_count": 25
        }
      ]
    },
    {
      "cell_type": "code",
      "source": [
        "plot_results(next(image_dataset.take(1).as_numpy_iterator()), 8)"
      ],
      "metadata": {
        "id": "1daZt2spE_1Z",
        "colab": {
          "base_uri": "https://localhost:8080/",
          "height": 248
        },
        "outputId": "ffb5fce5-d43c-422d-d5a5-c1f7912605b2"
      },
      "execution_count": null,
      "outputs": [
        {
          "output_type": "display_data",
          "data": {
            "text/plain": [
              "<Figure size 576x288 with 32 Axes>"
            ],
            "image/png": "[encoded data removed]"
          },
          "metadata": {
            "needs_background": "light"
          }
        }
      ]
    },
    {
      "cell_type": "markdown",
      "source": [
        "# Type 2\n",
        "\n",
        "This type is based on the structure provided by the TensorFlow Advanced Techniques specialization"
      ],
      "metadata": {
        "id": "7kIoxrGgHM22"
      }
    },
    {
      "cell_type": "markdown",
      "source": [
        "## Build the Model"
      ],
      "metadata": {
        "id": "Eg1tJbJeHOP1"
      }
    },
    {
      "cell_type": "code",
      "source": [
        "# Model building imports\n",
        "\n",
        "from keras.layers import Conv2D, Conv2DTranspose, BatchNormalization, Flatten, Reshape, Dense, LeakyReLU, Dropout\n",
        "from keras.models import Sequential"
      ],
      "metadata": {
        "id": "Y6LCfy6ETFwF"
      },
      "execution_count": null,
      "outputs": []
    },
    {
      "cell_type": "markdown",
      "source": [
        "### Generator"
      ],
      "metadata": {
        "id": "-cccdAStHkyC"
      }
    },
    {
      "cell_type": "code",
      "source": [
        "def make_generator_type2():\n",
        "  generator = Sequential([\n",
        "                          \n",
        "    Dense( 7 * 7 * 128, input_shape=[random_normal_dimensions], activation='selu'),\n",
        "    Reshape( (7, 7, 128) ),\n",
        "    BatchNormalization(),\n",
        "\n",
        "    Conv2DTranspose(filters=64, kernel_size=5, strides=2, padding='SAME', activation='selu'),\n",
        "    BatchNormalization(),\n",
        "\n",
        "    Conv2DTranspose(filters=1, kernel_size=5, strides=2, padding=\"SAME\", activation='tanh')\n",
        "  ])\n",
        "\n",
        "  return generator"
      ],
      "metadata": {
        "id": "UU5cHFKkEunK"
      },
      "execution_count": null,
      "outputs": []
    },
    {
      "cell_type": "code",
      "source": [
        "# sanity check\n",
        "K.clear_session()\n",
        "\n",
        "generator2 = make_generator_type2()\n",
        "generator2.summary()\n",
        "\n",
        "test_noise = tf.random.normal([1, random_normal_dimensions])\n",
        "\n",
        "test_image = generator2(test_noise, training=False)\n",
        "\n",
        "plt.imshow(test_image[0, :, :, 0], cmap='gray')\n",
        "plt.show()"
      ],
      "metadata": {
        "colab": {
          "base_uri": "https://localhost:8080/",
          "height": 727
        },
        "id": "1-l818abJjj0",
        "outputId": "8b75fcbe-a9b7-4173-9d53-392bc381d166"
      },
      "execution_count": null,
      "outputs": [
        {
          "output_type": "stream",
          "name": "stdout",
          "text": [
            "Model: \"sequential\"\n",
            "_________________________________________________________________\n",
            " Layer (type)                Output Shape              Param #   \n",
            "=================================================================\n",
            " dense (Dense)               (None, 6272)              206976    \n",
            "                                                                 \n",
            " reshape (Reshape)           (None, 7, 7, 128)         0         \n",
            "                                                                 \n",
            " batch_normalization (BatchN  (None, 7, 7, 128)        512       \n",
            " ormalization)                                                   \n",
            "                                                                 \n",
            " conv2d_transpose (Conv2DTra  (None, 14, 14, 64)       204864    \n",
            " nspose)                                                         \n",
            "                                                                 \n",
            " batch_normalization_1 (Batc  (None, 14, 14, 64)       256       \n",
            " hNormalization)                                                 \n",
            "                                                                 \n",
            " conv2d_transpose_1 (Conv2DT  (None, 28, 28, 1)        1601      \n",
            " ranspose)                                                       \n",
            "                                                                 \n",
            "=================================================================\n",
            "Total params: 414,209\n",
            "Trainable params: 413,825\n",
            "Non-trainable params: 384\n",
            "_________________________________________________________________\n"
          ]
        },
        {
          "output_type": "display_data",
          "data": {
            "text/plain": [
              "<Figure size 432x288 with 1 Axes>"
            ],
            "image/png": "[encoded data removed]"
          },
          "metadata": {
            "needs_background": "light"
          }
        }
      ]
    },
    {
      "cell_type": "code",
      "source": [
        "def make_discriminator_type2():\n",
        "  discriminator = Sequential([\n",
        "    Conv2D(64, kernel_size=5, strides=2, padding=\"SAME\", input_shape=(28,28,1)),\n",
        "    LeakyReLU(0.2),\n",
        "    Dropout(0.4),\n",
        "\n",
        "    Conv2D(128, kernel_size=5, strides=2, padding='SAME'),\n",
        "    LeakyReLU(0.2),\n",
        "    Dropout(0.4),\n",
        "\n",
        "    Flatten(),\n",
        "    Dense(1, activation='sigmoid')\n",
        "  ])\n",
        "\n",
        "  return discriminator"
      ],
      "metadata": {
        "id": "Buudh823JqML"
      },
      "execution_count": null,
      "outputs": []
    },
    {
      "cell_type": "code",
      "source": [
        "# sanity check\n",
        "discriminator2 = make_discriminator_type2()\n",
        "discriminator2.summary()\n",
        "\n",
        "test_pred = discriminator2(test_image, training=False)\n",
        "\n",
        "print()\n",
        "print(test_pred.numpy())"
      ],
      "metadata": {
        "colab": {
          "base_uri": "https://localhost:8080/"
        },
        "id": "6K0QTA0vKn5X",
        "outputId": "68281bc2-3605-4033-dae6-4a9643f8a2bc"
      },
      "execution_count": null,
      "outputs": [
        {
          "output_type": "stream",
          "name": "stdout",
          "text": [
            "Model: \"sequential_1\"\n",
            "_________________________________________________________________\n",
            " Layer (type)                Output Shape              Param #   \n",
            "=================================================================\n",
            " conv2d (Conv2D)             (None, 14, 14, 64)        1664      \n",
            "                                                                 \n",
            " leaky_re_lu (LeakyReLU)     (None, 14, 14, 64)        0         \n",
            "                                                                 \n",
            " dropout (Dropout)           (None, 14, 14, 64)        0         \n",
            "                                                                 \n",
            " conv2d_1 (Conv2D)           (None, 7, 7, 128)         204928    \n",
            "                                                                 \n",
            " leaky_re_lu_1 (LeakyReLU)   (None, 7, 7, 128)         0         \n",
            "                                                                 \n",
            " dropout_1 (Dropout)         (None, 7, 7, 128)         0         \n",
            "                                                                 \n",
            " flatten (Flatten)           (None, 6272)              0         \n",
            "                                                                 \n",
            " dense_1 (Dense)             (None, 1)                 6273      \n",
            "                                                                 \n",
            "=================================================================\n",
            "Total params: 212,865\n",
            "Trainable params: 212,865\n",
            "Non-trainable params: 0\n",
            "_________________________________________________________________\n",
            "\n",
            "[[0.49963763]]\n"
          ]
        }
      ]
    },
    {
      "cell_type": "markdown",
      "source": [
        "### Compile Discriminator"
      ],
      "metadata": {
        "id": "mCRTOhjtKw_J"
      }
    },
    {
      "cell_type": "code",
      "source": [
        "discriminator2.compile(loss='binary_crossentropy', optimizer='rmsprop')\n",
        "discriminator2.trainable = False"
      ],
      "metadata": {
        "id": "2vKN7QZCKvFR"
      },
      "execution_count": null,
      "outputs": []
    },
    {
      "cell_type": "markdown",
      "source": [
        "### Build and Compile GAN model"
      ],
      "metadata": {
        "id": "O4Bof3fSLRzc"
      }
    },
    {
      "cell_type": "code",
      "source": [
        "gan = Sequential([generator2, discriminator2])\n",
        "gan.compile(loss='binary_crossentropy', optimizer='rmsprop')"
      ],
      "metadata": {
        "id": "b8sSU2IkLQ7d"
      },
      "execution_count": null,
      "outputs": []
    },
    {
      "cell_type": "markdown",
      "source": [
        "## Train the model"
      ],
      "metadata": {
        "id": "mDIY_2swLmBn"
      }
    },
    {
      "cell_type": "code",
      "source": [
        "def train_gan(gan, dataset, random_normal_dimensions, epochs=50):\n",
        "  \"\"\" Defines the two-phase training loop of the GAN\n",
        "  Args:\n",
        "    gan -- the GAN model which has the generator and discriminator\n",
        "    dataset -- the training set of real images\n",
        "    random_normal_dimensions -- dimensionality of the input to the generator\n",
        "    epochs -- number of epochs\n",
        "  \"\"\"\n",
        "\n",
        "  # get generator and discriminator\n",
        "  generator, discriminator = gan.layers\n",
        "\n",
        "  for epoch in range(epochs):\n",
        "    print(\"Epoch {}/{}\".format(epoch + 1, epochs))\n",
        "    \n",
        "    for real_images in dataset:\n",
        "      \n",
        "      # Phase 1\n",
        "      # get batch size in case the batch is not full\n",
        "      real_batch_size = real_images.shape[0]\n",
        "\n",
        "      # generate noise\n",
        "      noise = tf.random.normal([real_batch_size, random_normal_dimensions])\n",
        "\n",
        "      # use noise to generate fake images\n",
        "      fake_images = generator(noise)\n",
        "\n",
        "      # create a list of fake and real images\n",
        "      mixed_images = tf.concat([fake_images, real_images], axis=0)\n",
        "\n",
        "      # list of labels for the discriminator\n",
        "      discriminator_labels = tf.constant([[0.]] * real_batch_size + [[1.]] * real_batch_size)\n",
        "\n",
        "      # unfreeze the discriminator's layers\n",
        "      discriminator.trainable = True\n",
        "\n",
        "      # train discriminator on the batch of mixed images\n",
        "      discriminator.train_on_batch(mixed_images, discriminator_labels)\n",
        "\n",
        "      # Phase 2\n",
        "      # again generate some noise \n",
        "      noise = tf.random.normal([real_batch_size, random_normal_dimensions])\n",
        "\n",
        "      # label all generated images as real\n",
        "      generator_labels = tf.constant([[1.]] * real_batch_size)\n",
        "\n",
        "      # freeze the discriminator's layers\n",
        "      discriminator.trainable = False\n",
        "\n",
        "      # Train the GAN on the noise with the labels all set to be true\n",
        "      gan.train_on_batch(noise, generator_labels)\n",
        "\n",
        "    display.clear_output(wait=True)\n",
        "    plot_results(fake_images, 16)                     \n",
        "    plt.show()\n",
        "\n",
        "  return fake_images"
      ],
      "metadata": {
        "id": "3JZQbLojLj5F"
      },
      "execution_count": null,
      "outputs": []
    },
    {
      "cell_type": "code",
      "source": [
        "temp_gen, _ = gan.layers\n",
        "temp_noise = tf.random.normal([BATCH_SIZE, random_normal_dimensions])\n",
        "\n",
        "some_images = temp_gen(temp_noise)\n",
        "plot_results(some_images, 16)"
      ],
      "metadata": {
        "id": "GCgpVRSj1LS9"
      },
      "execution_count": null,
      "outputs": []
    },
    {
      "cell_type": "code",
      "source": [
        "fake_images2 = train_gan(gan, image_dataset, random_normal_dimensions, EPOCHS)"
      ],
      "metadata": {
        "id": "rdTDKj1Khrqt"
      },
      "execution_count": null,
      "outputs": []
    },
    {
      "cell_type": "markdown",
      "source": [
        "# Type 1\n",
        "\n",
        "This model is based on the sample presented by TensorFlow documentation on Deep Convolutional Generative Adversarial Networks. \n",
        "\n",
        "**Generator** has double amount of units in the first Dense Layer and the last Conv2DTranspose Layer will decrease both spatial dims and channels.\n",
        "\n",
        "**Discriminator** is pretty much the same in both versions\n",
        "\n",
        "See details for other parts in the text boxes for each section"
      ],
      "metadata": {
        "id": "xXeW78C07h0R"
      }
    },
    {
      "cell_type": "markdown",
      "source": [
        "## Build the Model"
      ],
      "metadata": {
        "id": "Ui6IQz7FS1yV"
      }
    },
    {
      "cell_type": "markdown",
      "source": [
        "### Generator\n"
      ],
      "metadata": {
        "id": "4DiqYLbLS5G9"
      }
    },
    {
      "cell_type": "code",
      "source": [
        "def make_generator_type1():\n",
        "  model = Sequential()\n",
        "  \n",
        "  # Initialize the first Dense Layer of the model with BN and LeakyReLU activation\n",
        "  model.add(Dense( 7 * 7 * 256 , use_bias=False, input_shape=[random_normal_dimensions]))\n",
        "  model.add(BatchNormalization())\n",
        "  model.add(LeakyReLU())\n",
        "  model.add(Reshape((7, 7, 256)))\n",
        "\n",
        "  # make sure dimensions are correct\n",
        "  assert model.output_shape == (None, 7, 7, 256), \"{}\".format(model.output_shape)\n",
        "\n",
        "  model.add(Conv2DTranspose(filters=128, kernel_size=5, strides=(1,1), padding=\"SAME\", use_bias=False))\n",
        "  model.add(BatchNormalization())\n",
        "  model.add(LeakyReLU())\n",
        "  \n",
        "  assert model.output_shape == (None, 7, 7, 128), \"{}\".format(model.output_shape)\n",
        "\n",
        "  model.add(Conv2DTranspose(filters=64, kernel_size=5, strides=(2,2), padding=\"SAME\", use_bias=False))\n",
        "  model.add(BatchNormalization())\n",
        "  model.add(LeakyReLU())\n",
        "\n",
        "  assert model.output_shape == (None, 14, 14, 64), \"{}\".format(model.output_shape)\n",
        "\n",
        "  model.add(Conv2DTranspose(filters=1, kernel_size=5, strides=(2,2), padding=\"SAME\", activation='tanh'))\n",
        "\n",
        "  assert model.output_shape == (None, 28, 28, 1), \"{}\".format(model.output_shape)\n",
        "\n",
        "  return model"
      ],
      "metadata": {
        "id": "-ycXiVkhSnKl"
      },
      "execution_count": null,
      "outputs": []
    },
    {
      "cell_type": "code",
      "source": [
        "# sanity check\n",
        "\n",
        "generator = make_generator_type1()\n",
        "generator.summary()\n",
        "\n",
        "test_noise = tf.random.normal([1, random_normal_dimensions])\n",
        "\n",
        "test_image = generator(test_noise, training=False)\n",
        "\n",
        "plt.imshow(test_image[0, :, :, 0], cmap='gray')\n",
        "plt.show()"
      ],
      "metadata": {
        "colab": {
          "base_uri": "https://localhost:8080/",
          "height": 949
        },
        "id": "9k-rhqhs3OSQ",
        "outputId": "f5532b1f-3d1d-4577-f616-5dd231f4dfee"
      },
      "execution_count": null,
      "outputs": [
        {
          "output_type": "stream",
          "name": "stdout",
          "text": [
            "Model: \"sequential_5\"\n",
            "_________________________________________________________________\n",
            " Layer (type)                Output Shape              Param #   \n",
            "=================================================================\n",
            " dense_4 (Dense)             (None, 12544)             401408    \n",
            "                                                                 \n",
            " batch_normalization_7 (Batc  (None, 12544)            50176     \n",
            " hNormalization)                                                 \n",
            "                                                                 \n",
            " leaky_re_lu_7 (LeakyReLU)   (None, 12544)             0         \n",
            "                                                                 \n",
            " reshape_3 (Reshape)         (None, 7, 7, 256)         0         \n",
            "                                                                 \n",
            " conv2d_transpose_5 (Conv2DT  (None, 7, 7, 128)        819200    \n",
            " ranspose)                                                       \n",
            "                                                                 \n",
            " batch_normalization_8 (Batc  (None, 7, 7, 128)        512       \n",
            " hNormalization)                                                 \n",
            "                                                                 \n",
            " leaky_re_lu_8 (LeakyReLU)   (None, 7, 7, 128)         0         \n",
            "                                                                 \n",
            " conv2d_transpose_6 (Conv2DT  (None, 14, 14, 64)       204800    \n",
            " ranspose)                                                       \n",
            "                                                                 \n",
            " batch_normalization_9 (Batc  (None, 14, 14, 64)       256       \n",
            " hNormalization)                                                 \n",
            "                                                                 \n",
            " leaky_re_lu_9 (LeakyReLU)   (None, 14, 14, 64)        0         \n",
            "                                                                 \n",
            " conv2d_transpose_7 (Conv2DT  (None, 28, 28, 1)        1601      \n",
            " ranspose)                                                       \n",
            "                                                                 \n",
            "=================================================================\n",
            "Total params: 1,477,953\n",
            "Trainable params: 1,452,481\n",
            "Non-trainable params: 25,472\n",
            "_________________________________________________________________\n"
          ]
        },
        {
          "output_type": "display_data",
          "data": {
            "text/plain": [
              "<Figure size 432x288 with 1 Axes>"
            ],
            "image/png": "[encoded data removed]"
          },
          "metadata": {
            "needs_background": "light"
          }
        }
      ]
    },
    {
      "cell_type": "markdown",
      "source": [
        "### Discriminator"
      ],
      "metadata": {
        "id": "MrwV73Bd23WJ"
      }
    },
    {
      "cell_type": "code",
      "source": [
        "def make_discriminator_type1():\n",
        "  model = Sequential()\n",
        "\n",
        "  model.add(Conv2D(filters=64, kernel_size=(5,5), strides=(1,1), padding='SAME', input_shape=(28,28,1)))\n",
        "  model.add(LeakyReLU())\n",
        "  model.add(Dropout(0.4))\n",
        "\n",
        "  assert model.output_shape == (None, 28, 28, 64), \"{}\".format(model.output_shape)\n",
        "\n",
        "  model.add(Conv2D(filters=128, kernel_size=(5,5), strides=(2,2), padding='SAME'))\n",
        "  model.add(LeakyReLU(0.2))\n",
        "  model.add(Dropout(0.4))\n",
        "\n",
        "  assert model.output_shape == (None, 14, 14, 128), \"{}\".format(model.output_shape)\n",
        "\n",
        "  model.add(Conv2D(filters=256, kernel_size=(5,5), strides=(2,2), padding='SAME'))\n",
        "  model.add(LeakyReLU(0.2))\n",
        "  model.add(Dropout(0.4))\n",
        "\n",
        "  assert model.output_shape == (None, 7, 7, 256), \"{}\".format(model.output_shape)\n",
        "\n",
        "  model.add(Flatten())\n",
        "  model.add(Dense(1, activation='sigmoid'))\n",
        "\n",
        "  return model"
      ],
      "metadata": {
        "id": "nBtVVVJp1_HR"
      },
      "execution_count": null,
      "outputs": []
    },
    {
      "cell_type": "code",
      "source": [
        "# sanity check\n",
        "discriminator = make_discriminator_type1()\n",
        "discriminator.summary()\n",
        "\n",
        "test_pred = discriminator(test_image, training=False)\n",
        "\n",
        "print()\n",
        "print(test_pred.numpy())"
      ],
      "metadata": {
        "colab": {
          "base_uri": "https://localhost:8080/"
        },
        "id": "Qqb8jCoz5v_P",
        "outputId": "fb5cf60f-e38f-4b8e-9b6b-6ec15631a902"
      },
      "execution_count": null,
      "outputs": [
        {
          "output_type": "stream",
          "name": "stdout",
          "text": [
            "Model: \"sequential_3\"\n",
            "_________________________________________________________________\n",
            " Layer (type)                Output Shape              Param #   \n",
            "=================================================================\n",
            " conv2d_3 (Conv2D)           (None, 28, 28, 64)        1664      \n",
            "                                                                 \n",
            " leaky_re_lu_9 (LeakyReLU)   (None, 28, 28, 64)        0         \n",
            "                                                                 \n",
            " dropout_3 (Dropout)         (None, 28, 28, 64)        0         \n",
            "                                                                 \n",
            " conv2d_4 (Conv2D)           (None, 14, 14, 128)       204928    \n",
            "                                                                 \n",
            " leaky_re_lu_10 (LeakyReLU)  (None, 14, 14, 128)       0         \n",
            "                                                                 \n",
            " dropout_4 (Dropout)         (None, 14, 14, 128)       0         \n",
            "                                                                 \n",
            " conv2d_5 (Conv2D)           (None, 7, 7, 256)         819456    \n",
            "                                                                 \n",
            " leaky_re_lu_11 (LeakyReLU)  (None, 7, 7, 256)         0         \n",
            "                                                                 \n",
            " dropout_5 (Dropout)         (None, 7, 7, 256)         0         \n",
            "                                                                 \n",
            " flatten_1 (Flatten)         (None, 12544)             0         \n",
            "                                                                 \n",
            " dense_3 (Dense)             (None, 1)                 12545     \n",
            "                                                                 \n",
            "=================================================================\n",
            "Total params: 1,038,593\n",
            "Trainable params: 1,038,593\n",
            "Non-trainable params: 0\n",
            "_________________________________________________________________\n",
            "\n",
            "[[0.500061]]\n"
          ]
        }
      ]
    },
    {
      "cell_type": "markdown",
      "source": [
        "### Define Loss and Optimizer"
      ],
      "metadata": {
        "id": "88ii2DpM8Gr2"
      }
    },
    {
      "cell_type": "code",
      "source": [
        "# Cross-entropy loss\n",
        "\n",
        "cross_entropy = tf.keras.losses.BinaryCrossentropy()"
      ],
      "metadata": {
        "id": "9cTX2xg66ka_"
      },
      "execution_count": null,
      "outputs": []
    },
    {
      "cell_type": "markdown",
      "source": [
        "#### Discriminator Loss\n",
        "This loss shows how well the model can tell if the image is fake or not"
      ],
      "metadata": {
        "id": "nMd097a58Yzf"
      }
    },
    {
      "cell_type": "code",
      "source": [
        "def discriminator_loss(real_output, fake_output):\n",
        "  real_loss = cross_entropy(tf.ones_like(real_output), real_output)\n",
        "  fake_loss = cross_entropy(tf.zeros_like(fake_output), fake_output)\n",
        "  total_loss = real_loss + fake_loss\n",
        "\n",
        "  return total_loss"
      ],
      "metadata": {
        "id": "-wPjwJSO8YEO"
      },
      "execution_count": null,
      "outputs": []
    },
    {
      "cell_type": "markdown",
      "source": [
        "#### Generator Loss\n",
        "This loss shows how well the model can \"trick\" the discriminator to label fake images (\"0\") as real (\"1\")"
      ],
      "metadata": {
        "id": "MTLB2mv989CL"
      }
    },
    {
      "cell_type": "code",
      "source": [
        "def generator_loss(fake_output):\n",
        "  return cross_entropy(tf.ones_like(fake_output), fake_output)"
      ],
      "metadata": {
        "id": "UQv51EW588i3"
      },
      "execution_count": null,
      "outputs": []
    },
    {
      "cell_type": "markdown",
      "source": [
        "#### Optimizers\n",
        "Different models must have different optimizers. Here we will use Adam optimizer, unlike RMSProp in the Type 2"
      ],
      "metadata": {
        "id": "Axoahdj59vO3"
      }
    },
    {
      "cell_type": "code",
      "source": [
        "generator_optimizer = keras.optimizers.Adam()\n",
        "discriminator_optimizer = keras.optimizers.Adam()"
      ],
      "metadata": {
        "id": "Z2VCBnIf9pcO"
      },
      "execution_count": null,
      "outputs": []
    },
    {
      "cell_type": "markdown",
      "source": [
        "## Custom Training Loop\n",
        "Another significant difference between Type 1 and Type 2 models is training process. Here we are using custom training loops unlike train_on_batch() function."
      ],
      "metadata": {
        "id": "V7bup3X1-bEs"
      }
    },
    {
      "cell_type": "code",
      "source": [
        "# decorator @tf.function causes the function to be \"compiled\"\n",
        "@tf.function\n",
        "def train_step(images):\n",
        "  \n",
        "  # generate noise\n",
        "  noise = tf.random.normal([BATCH_SIZE, random_normal_dimensions])\n",
        "\n",
        "  # use Gradient Tape to store gradients of both generator and discriminator\n",
        "  with tf.GradientTape() as gen_tape, tf.GradientTape() as disc_tape:\n",
        "    generated_images = generator(noise, training=True)\n",
        "\n",
        "    real_output = discriminator(images, training=True)\n",
        "    fake_output = discriminator(generated_images, training=True)\n",
        "\n",
        "    gen_loss = generator_loss(fake_output)\n",
        "    disc_loss = discriminator_loss(real_output, fake_output)\n",
        "  \n",
        "  gen_gradients = gen_tape.gradient(gen_loss, generator.trainable_variables)\n",
        "  disc_gradients = disc_tape.gradient(disc_loss, discriminator.trainable_variables)\n",
        "\n",
        "  generator_optimizer.apply_gradients(zip(gen_gradients, generator.trainable_variables))\n",
        "  discriminator_optimizer.apply_gradients(zip(disc_gradients, discriminator.trainable_variables))\n",
        "\n",
        "  return generated_images"
      ],
      "metadata": {
        "id": "9Ad5hFWZ_FfJ"
      },
      "execution_count": null,
      "outputs": []
    },
    {
      "cell_type": "code",
      "source": [
        "def train(dataset, epochs):\n",
        "  for epoch in range(epochs):\n",
        "    print(\"Epoch {}/{}\".format(epoch+1, epochs))\n",
        "    \n",
        "    for real_image_batch in dataset:\n",
        "      generated_images = train_step(real_image_batch)\n",
        "    \n",
        "    display.clear_output(wait=True)\n",
        "    plot_results(generated_images, n_cols=8)\n",
        "  return generated_images"
      ],
      "metadata": {
        "id": "mPdB1GU-CPlh"
      },
      "execution_count": null,
      "outputs": []
    },
    {
      "cell_type": "markdown",
      "source": [
        "### Start training"
      ],
      "metadata": {
        "id": "OgpTGwx-EnLJ"
      }
    },
    {
      "cell_type": "code",
      "source": [
        "fake_images1 = train(image_dataset, EPOCHS)"
      ],
      "metadata": {
        "id": "vSx8dBC8EgqJ"
      },
      "execution_count": null,
      "outputs": []
    },
    {
      "cell_type": "markdown",
      "source": [
        "## Images for grading (Course Assignment)"
      ],
      "metadata": {
        "id": "WuCI-vIgDyQE"
      }
    },
    {
      "cell_type": "code",
      "source": [
        "# helper function to collect the images\n",
        "def append_to_grading_images(images, indexes):\n",
        "  l = []\n",
        "  for index in indexes:\n",
        "    if len(l) >= 16:\n",
        "      print(\"The list is full\")\n",
        "      break\n",
        "    l.append(tf.squeeze(images[index:(index+1),...], axis=0))\n",
        "  l = tf.convert_to_tensor(l)\n",
        "  return l"
      ],
      "metadata": {
        "id": "ldwNxvy5AzXk"
      },
      "execution_count": null,
      "outputs": []
    },
    {
      "cell_type": "code",
      "source": [
        "grading_images = tf.concat([append_to_grading_images(some_images, [21, 22, 31, 7]), \n",
        "                            append_to_grading_images(fake_images1, [0, 5, 7, 8, 12, 14, 20, 28]),\n",
        "                            append_to_grading_images(fake_images2, [2, 8, 9, 19])\n",
        "                            ], axis=0)"
      ],
      "metadata": {
        "id": "nlc5FlU0D2zs"
      },
      "execution_count": null,
      "outputs": []
    },
    {
      "cell_type": "code",
      "source": [
        "plot_results(grading_images, 8)"
      ],
      "metadata": {
        "colab": {
          "base_uri": "https://localhost:8080/",
          "height": 138
        },
        "id": "7dOOQAKOFyYA",
        "outputId": "f54d08ec-667e-4439-ebac-91f75db37f78"
      },
      "execution_count": null,
      "outputs": [
        {
          "output_type": "display_data",
          "data": {
            "text/plain": [
              "<Figure size 576x144 with 16 Axes>"
            ],
            "image/png": "[encoded data removed]"
          },
          "metadata": {
            "needs_background": "light"
          }
        }
      ]
    },
    {
      "cell_type": "code",
      "source": [
        "from PIL import Image\n",
        "from zipfile import ZipFile\n",
        "\n",
        "denormalized_images = grading_images * 255\n",
        "denormalized_images = tf.dtypes.cast(denormalized_images, dtype = tf.uint8)\n",
        "\n",
        "file_paths = []\n",
        "\n",
        "for this_image in range(0,16):\n",
        "  i = tf.reshape(denormalized_images[this_image], [28,28])\n",
        "  im = Image.fromarray(i.numpy())\n",
        "  im = im.convert(\"L\")\n",
        "  filename = \"hand\" + str(this_image) + \".png\"\n",
        "  file_paths.append(filename)\n",
        "  im.save(filename)\n",
        "\n",
        "with ZipFile('my-signs.zip', 'w') as zip:\n",
        "  for file in file_paths:\n",
        "    zip.write(file)"
      ],
      "metadata": {
        "id": "oQxEXpVwG0H9"
      },
      "execution_count": null,
      "outputs": []
    },
    {
      "cell_type": "code",
      "source": [
        ""
      ],
      "metadata": {
        "id": "-xzWGCbcIArB"
      },
      "execution_count": null,
      "outputs": []
    }
  ]
}